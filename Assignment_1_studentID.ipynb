{
 "cells": [
  {
   "cell_type": "markdown",
   "metadata": {
    "id": "rbgjVp6BXGCT"
   },
   "source": [
    "\n",
    "# **Assignment 1**\n",
    "\n",
    "\n",
    "## Task 1. Correlation\n",
    "We will use the data example from the textbook \"Statistical Analysis with The General Linear Model\" by Miller and Haden (2013), Chapter 11.\n",
    "\n",
    "As in Miller and Haden, we have five columns:\n",
    "\n",
    "-Participant (Participant),\n",
    "\n",
    "-Reading Ability (Abil),\n",
    "\n",
    "-Intelligence (IQ),\n",
    "\n",
    "-Number of minutes spent reading at home per week (Home),\n",
    "\n",
    "-Number of minutes spent watching TV per week (TV).\n",
    "\n",
    "\n",
    "For the task we will focus on the relationship between Reading Ability and IQ, but for further practice you can look at other relationships on your own."
   ]
  },
  {
   "cell_type": "markdown",
   "metadata": {
    "id": "Z4cXzKORYFaD"
   },
   "source": [
    "**Question 1**:\n",
    "\n",
    "a. Check whether the data is interval, ratio, or ordinal.\n",
    "\n",
    "b. Check whether there is a data point for each participant on both variables.\n",
    "\n",
    "c. Check whether the data is normally distributed in both variables.\n",
    "\n",
    "d. Create a scatter plot with Reading Ability being the x-axis and IQ, being the y-axis.\n",
    "\n",
    "e. Draw a correlation line on the scatter plot.\n",
    "\n",
    "\n",
    "**Instructions:**\n",
    "\n",
    "1. Load the necessary libraries and explain why you need them (\"#used for ...\").\n",
    "\n",
    "2. Read the MillerHadenData.csv file into a DataFrame and name it \"df_mh\"."
   ]
  },
  {
   "cell_type": "code",
   "execution_count": 41,
   "metadata": {
    "id": "140M8Z4qYn_G"
   },
   "outputs": [],
   "source": [
    "import pandas as pd #provides data structures such as DataFrame for processing and analyzing data.\n",
    "import seaborn as sns # used for visualization\n",
    "import matplotlib  # Python library for creating graphics for plotting various charts, including histograms.\n",
    "from matplotlib import pyplot as plt # used for creating charts and visualizations\n",
    "import pylab # used for creating graphs and plots, performing data visualization, and other plot-related tasks\n",
    "import pingouin as pg # used for performing various statistical tests, including t-test, analysis of variance, correlation analysis, regression analysis.\n",
    "\n",
    "df_mh = pd.read_csv('MillerHadenData.csv')\n",
    "\n"
   ]
  },
  {
   "cell_type": "code",
   "execution_count": 42,
   "metadata": {
    "id": "rwqidw5q2D1n"
   },
   "outputs": [
    {
     "name": "stdout",
     "output_type": "stream",
     "text": [
      "   Participant  Abil   IQ  Home   TV\n",
      "0            1    61  107   144  487\n",
      "1            2    56  109   123  608\n",
      "2            3    45   81   108  640\n",
      "3            4    66  100   155  493\n",
      "4            5    49   92   103  636\n",
      "<class 'pandas.core.frame.DataFrame'>\n",
      "RangeIndex: 25 entries, 0 to 24\n",
      "Data columns (total 5 columns):\n",
      " #   Column       Non-Null Count  Dtype\n",
      "---  ------       --------------  -----\n",
      " 0   Participant  25 non-null     int64\n",
      " 1   Abil         25 non-null     int64\n",
      " 2   IQ           25 non-null     int64\n",
      " 3   Home         25 non-null     int64\n",
      " 4   TV           25 non-null     int64\n",
      "dtypes: int64(5)\n",
      "memory usage: 1.1 KB\n",
      "None\n"
     ]
    }
   ],
   "source": [
    "# Q1a (code):\n",
    "# Display first few rows of the dataframe\n",
    "print(df_mh.head())\n",
    "\n",
    "# Check data types and information\n",
    "\n",
    "print(df_mh.info())"
   ]
  },
  {
   "cell_type": "code",
   "execution_count": 43,
   "metadata": {
    "id": "Edd9mYgi2Jar"
   },
   "outputs": [
    {
     "name": "stdout",
     "output_type": "stream",
     "text": [
      "Missing Values:\n",
      " Participant    0\n",
      "Abil           0\n",
      "IQ             0\n",
      "Home           0\n",
      "TV             0\n",
      "dtype: int64\n"
     ]
    }
   ],
   "source": [
    "# Q1b (code):\n",
    "# Check for missing values\n",
    "missing_values = df_mh.isnull().sum()\n",
    "print(\"Missing Values:\\n\", missing_values)\n",
    "\n",
    "# Check whether there is a data point for each participant on both variables\n",
    "\n",
    "# This part of the code checks if there are missing values for any participant in either the 'Abil' or 'IQ' \n",
    "# variable. If there are no missing values (all(missing_data == 0) is True), it prints a message indicating that\n",
    "# each participant has data points for both variables. Otherwise, it prints a message indicating that some \n",
    "# participants are missing data points for at least one variable, along with the missing data statistics.\n"
   ]
  },
  {
   "cell_type": "markdown",
   "metadata": {},
   "source": [
    "From the results, all the data has no null values, so there are no null values between the two variables."
   ]
  },
  {
   "cell_type": "code",
   "execution_count": 44,
   "metadata": {
    "id": "3ALe0fjr2K5h"
   },
   "outputs": [
    {
     "data": {
      "text/plain": [
       "Text(0, 0.5, 'Frequency')"
      ]
     },
     "execution_count": 44,
     "metadata": {},
     "output_type": "execute_result"
    },
    {
     "data": {
      "image/png": "[encoded data removed]",
      "text/plain": [
       "<Figure size 640x480 with 1 Axes>"
      ]
     },
     "metadata": {},
     "output_type": "display_data"
    }
   ],
   "source": [
    "# Q1c (code):\n",
    "# Check data distribution\n",
    "df_mh['Abil'].hist()\n",
    "plt.title('distribution of abil')\n",
    "plt.xlabel('Abil')\n",
    "plt.ylabel('Frequency')\n",
    "\n"
   ]
  },
  {
   "cell_type": "code",
   "execution_count": 45,
   "metadata": {},
   "outputs": [
    {
     "data": {
      "text/plain": [
       "Text(0, 0.5, 'Frequency')"
      ]
     },
     "execution_count": 45,
     "metadata": {},
     "output_type": "execute_result"
    },
    {
     "data": {
      "image/png": "[encoded data removed]",
      "text/plain": [
       "<Figure size 640x480 with 1 Axes>"
      ]
     },
     "metadata": {},
     "output_type": "display_data"
    }
   ],
   "source": [
    "df_mh['IQ'].hist()\n",
    "plt.title('distribution of IQ')\n",
    "plt.xlabel('IQ')\n",
    "plt.ylabel('Frequency')"
   ]
  },
  {
   "cell_type": "code",
   "execution_count": 46,
   "metadata": {},
   "outputs": [
    {
     "name": "stdout",
     "output_type": "stream",
     "text": [
      "Shapiro-Wilk test results:\n",
      "Abil: W=0.9487950205802917, p-value=0.2354886382818222\n",
      "IQ: W=0.9636043310165405, p-value=0.4908201992511749\n",
      "Abil is normally distributed.\n",
      "IQ is normally distributed.\n"
     ]
    }
   ],
   "source": [
    "from scipy.stats import shapiro\n",
    "\n",
    "# Check data distribution\n",
    "shapiro_reading = shapiro(df_mh['Abil'])\n",
    "shapiro_iq = shapiro(df_mh['IQ'])\n",
    "# The shapiro function from the scipy.stats module is used to conduct the Shapiro-Wilk test. It returns\n",
    "# the test statistic ('W') and the p-value for each variable.\n",
    "\n",
    "print(\"Shapiro-Wilk test results:\")\n",
    "print(f\"Abil: W={shapiro_reading[0]}, p-value={shapiro_reading[1]}\")\n",
    "print(f\"IQ: W={shapiro_iq[0]}, p-value={shapiro_iq[1]}\")\n",
    "\n",
    "# These conditional statements interpret the results of the Shapiro-Wilk test. If the p-value is greater than 0.05,\n",
    "# it is concluded that the variable is normally distributed; otherwise, it is considered not normally distributed.\n",
    "# The printed messages convey whether 'Abil' and 'IQ' are normally distributed based on the significance level of\n",
    "# 0.05.\n",
    "\n",
    "if shapiro_reading[1] > 0.05:\n",
    "    print(\"Abil is normally distributed.\")\n",
    "else:\n",
    "    print(\"Abil is not normally distributed.\")\n",
    "\n",
    "if shapiro_iq[1] > 0.05:\n",
    "    print(\"IQ is normally distributed.\")\n",
    "else:\n",
    "    print(\"IQ is not normally distributed.\")"
   ]
  },
  {
   "cell_type": "code",
   "execution_count": 47,
   "metadata": {
    "id": "xaQ300fY2MPe"
   },
   "outputs": [
    {
     "data": {
      "image/png": "[encoded data removed]",
      "text/plain": [
       "<Figure size 640x480 with 1 Axes>"
      ]
     },
     "metadata": {},
     "output_type": "display_data"
    }
   ],
   "source": [
    "# Q1d (code):\n",
    "# Scatter plot\n",
    "\n",
    "Reading_Ability = df_mh['Abil']\n",
    "IQ = df_mh['IQ']\n",
    "\n",
    "plt.scatter(Reading_Ability, IQ, c=\"r\")\n",
    "plt.xlabel(\"Reading Ability\") \n",
    "plt.ylabel(\"IQ\")\n",
    "plt.show()\n",
    "\n"
   ]
  },
  {
   "cell_type": "code",
   "execution_count": 48,
   "metadata": {
    "id": "Zpkwqc382N06"
   },
   "outputs": [
    {
     "data": {
      "image/png": "[encoded data removed]",
      "text/plain": [
       "<Figure size 640x480 with 1 Axes>"
      ]
     },
     "metadata": {},
     "output_type": "display_data"
    }
   ],
   "source": [
    "# Q1e (code):\n",
    "# Correlation line\n",
    "#Function belonging to the Seaborn library, a library for data visualization.\n",
    "#Used for drawing a scatter plot between two variables and add a regression line to the plot.\n",
    "plot_corr_sns = sns.regplot(x=\"Abil\", y=\"IQ\", color=\"r\", data=df_mh)"
   ]
  },
  {
   "cell_type": "markdown",
   "metadata": {
    "id": "tKtW2diqZq1S"
   },
   "source": [
    "**Question 2**:\n",
    "\n",
    "a. Which correlation coefficient test can we use, Pearson or Spearman? Briefly explian why based on the results of Question 1.\n",
    "\n",
    "b. Conduct a correlation coefficient test.\n",
    "\n",
    "c. Interpret the result (direction and strength of the association between the two varibles)"
   ]
  },
  {
   "cell_type": "code",
   "execution_count": 49,
   "metadata": {
    "id": "t5GRVxHwaKIS"
   },
   "outputs": [],
   "source": [
    "# Q2a (answer with words):"
   ]
  },
  {
   "cell_type": "markdown",
   "metadata": {},
   "source": [
    "Since both 'Abil'and 'IQ' are normally distributed, we can use the Pearson correlation coefficient. \n",
    "The Pearson correlation coefficient is appropriate when the variables are normally distributed \n",
    "and there is a linear relationship between 'Abil'and 'IQ'and the data is continuous as we can see in Q1e."
   ]
  },
  {
   "cell_type": "code",
   "execution_count": 51,
   "metadata": {
    "id": "LTSp6xMFaKgf"
   },
   "outputs": [
    {
     "name": "stdout",
     "output_type": "stream",
     "text": [
      "Pearson Correlation Coefficient: 0.4512\n",
      "P-value: 0.0236\n",
      "Reject the null hypothesis. There is a significant correlation between 'Abil' and 'IQ'.\n"
     ]
    }
   ],
   "source": [
    "# Q2b (code):\n",
    "#This line of code uses the pearsonr function\n",
    "#to calculate the Pearson correlation coefficient and its associated p-value for the variables 'Abil' and 'IQ'.\n",
    "from scipy.stats import pearsonr\n",
    "correlation_coefficient, p_value = pearsonr(df_mh['Abil'], df_mh['IQ'])\n",
    "#we print the computed Pearson correlation coefficient and p-value, rounding them to four decimal places.\n",
    "print(f\"Pearson Correlation Coefficient: {correlation_coefficient:.4f}\")\n",
    "print(f\"P-value: {p_value:.4f}\")\n",
    "alpha = 0.05 # the significance level (alpha) to 0.05, which is a common threshold in hypothesis testing.\n",
    "if p_value < alpha:\n",
    "    print(\"Reject the null hypothesis. There is a significant correlation between 'Abil' and 'IQ'.\")\n",
    "else:\n",
    "    print(\"Fail to reject the null hypothesis. There is no significant correlation between 'Abil' and 'IQ'.\")\n",
    "# This conditional statement compares the calculated p-value (presumably obtained from a statistical test) with \n",
    "# the chosen significance level. If the p-value is less than the significance level (alpha), it prints a message \n",
    "# indicating that the null hypothesis is rejected, suggesting a significant correlation between 'Abil' and 'IQ'. \n",
    "# If the p-value is greater than or equal to the significance level, it prints a message indicating a failure to\n",
    "# reject the null hypothesis, suggesting no significant correlation between 'Abil' and 'IQ'.\n"
   ]
  },
  {
   "cell_type": "code",
   "execution_count": 52,
   "metadata": {
    "id": "m_3aCSG7ylFJ"
   },
   "outputs": [
    {
     "name": "stdout",
     "output_type": "stream",
     "text": [
      "The association between 'Abil' and 'IQ' is positive and has a moderate strength.\n"
     ]
    }
   ],
   "source": [
    "# Q2c (answer with words):\n",
    "#This part of the code determines the direction of the relationship based on whether the Pearson \n",
    "#correlation coefficient is positive, negative, or close to zero.\n",
    "if correlation_coefficient > 0:\n",
    "    direction = \"positive\"\n",
    "elif correlation_coefficient < 0:\n",
    "    direction = \"negative\"\n",
    "else:\n",
    "    direction = \"no\"\n",
    "#This part of the code categorizes the strength of the association as very weak, weak, moderate, \n",
    "#strong, or very strong based on the absolute value of the Pearson correlation coefficient.  \n",
    "if 0.8 <= abs(correlation_coefficient) <= 1:\n",
    "    strength = \"very strong\"\n",
    "elif 0.6 <= abs(correlation_coefficient) < 0.8:\n",
    "    strength = \"strong\"\n",
    "elif 0.4 <= abs(correlation_coefficient) < 0.6:\n",
    "    strength = \"moderate\"\n",
    "elif 0.2 <= abs(correlation_coefficient) < 0.4:\n",
    "    strength = \"weak\"\n",
    "else:\n",
    "    strength = \"very weak\"\n",
    "#The final line of code prints the interpreted results based on the calculated Pearson correlation \n",
    "#coefficient and p-value, including the direction and strength of the association\n",
    "print(f\"The association between 'Abil' and 'IQ' is {direction} and has a {strength} strength.\")"
   ]
  },
  {
   "cell_type": "markdown",
   "metadata": {
    "id": "mogdaz8P27oU"
   },
   "source": [
    "## Task 2. Chi-square Test\n",
    "We will continue to use the data example from Task 1.\n",
    "\n",
    "We want to explore whether there are significant differences in the amount of time spent reading at home per week (Home) among people with different reading abilities (Reading Ability). Therefore, we will divide the reading ability of all participants into two groups. The first group is those with low reading ability (Reading Ability at or below the rounded average), and the second group is those with high reading ability (Reading Ability above the rounded average). We will store this grouping in a new column named \"Rank_Abil\".\n",
    "\n",
    "\n",
    "Similarly, the reading time is divided into two different scenarios: the first scenario is infrequent reading (Home at or below the rounded average), and the other is frequent reading (Reading Ability above the rounded average). We will store this grouping in a new column named \"Rank_Home\".\n",
    "\n",
    "\n",
    "Then, construct a Contingency Matrix and perform a Chi-square test.\n",
    "\n",
    "**Question 3**:\n",
    "\n",
    "a. Please state the null hypothesis (H0) and alternative hypothesis (H1) for this Chi-square test.\n",
    "\n",
    "b. Based on the task description, add new columns “Rank_Abil” and \"Rank_Home\" to the dataframe df_mh.\n",
    "\n",
    "c. Construct a Contingency Matrix.\n",
    "\n",
    "d. Perform a Chi-square test.\n",
    "\n",
    "e. Interpret the results of the Chi-square test (answer in text)."
   ]
  },
  {
   "cell_type": "code",
   "execution_count": null,
   "metadata": {
    "id": "tIKHfEwG-Pte"
   },
   "outputs": [],
   "source": [
    "# Q3a (answer in words):\n",
    "# H0:\n",
    "# H1："
   ]
  },
  {
   "cell_type": "markdown",
   "metadata": {},
   "source": [
    "H0:There is no significant association between the reading ability (\"Rank_Abil\") and \n",
    "   the amount of time spent reading at home (\"Rank_Home\") among the participants.\n",
    "\n",
    "H1：There is a significant association between the reading ability (\"Rank_Abil\") and \n",
    "   the amount of time spent reading at home (\"Rank_Home\") among the participants."
   ]
  },
  {
   "cell_type": "code",
   "execution_count": 53,
   "metadata": {
    "id": "nlO-hmq2-V2Z"
   },
   "outputs": [
    {
     "data": {
      "text/html": [
       "<div>\n",
       "<style scoped>\n",
       "    .dataframe tbody tr th:only-of-type {\n",
       "        vertical-align: middle;\n",
       "    }\n",
       "\n",
       "    .dataframe tbody tr th {\n",
       "        vertical-align: top;\n",
       "    }\n",
       "\n",
       "    .dataframe thead th {\n",
       "        text-align: right;\n",
       "    }\n",
       "</style>\n",
       "<table border=\"1\" class=\"dataframe\">\n",
       "  <thead>\n",
       "    <tr style=\"text-align: right;\">\n",
       "      <th></th>\n",
       "      <th>Participant</th>\n",
       "      <th>Abil</th>\n",
       "      <th>IQ</th>\n",
       "      <th>Home</th>\n",
       "      <th>TV</th>\n",
       "      <th>Rank_Abil</th>\n",
       "      <th>Rank_Home</th>\n",
       "    </tr>\n",
       "  </thead>\n",
       "  <tbody>\n",
       "    <tr>\n",
       "      <th>0</th>\n",
       "      <td>1</td>\n",
       "      <td>61</td>\n",
       "      <td>107</td>\n",
       "      <td>144</td>\n",
       "      <td>487</td>\n",
       "      <td>High</td>\n",
       "      <td>Frequent</td>\n",
       "    </tr>\n",
       "    <tr>\n",
       "      <th>1</th>\n",
       "      <td>2</td>\n",
       "      <td>56</td>\n",
       "      <td>109</td>\n",
       "      <td>123</td>\n",
       "      <td>608</td>\n",
       "      <td>High</td>\n",
       "      <td>Infrequent</td>\n",
       "    </tr>\n",
       "    <tr>\n",
       "      <th>2</th>\n",
       "      <td>3</td>\n",
       "      <td>45</td>\n",
       "      <td>81</td>\n",
       "      <td>108</td>\n",
       "      <td>640</td>\n",
       "      <td>Low</td>\n",
       "      <td>Infrequent</td>\n",
       "    </tr>\n",
       "    <tr>\n",
       "      <th>3</th>\n",
       "      <td>4</td>\n",
       "      <td>66</td>\n",
       "      <td>100</td>\n",
       "      <td>155</td>\n",
       "      <td>493</td>\n",
       "      <td>High</td>\n",
       "      <td>Frequent</td>\n",
       "    </tr>\n",
       "    <tr>\n",
       "      <th>4</th>\n",
       "      <td>5</td>\n",
       "      <td>49</td>\n",
       "      <td>92</td>\n",
       "      <td>103</td>\n",
       "      <td>636</td>\n",
       "      <td>Low</td>\n",
       "      <td>Infrequent</td>\n",
       "    </tr>\n",
       "  </tbody>\n",
       "</table>\n",
       "</div>"
      ],
      "text/plain": [
       "   Participant  Abil   IQ  Home   TV Rank_Abil   Rank_Home\n",
       "0            1    61  107   144  487      High    Frequent\n",
       "1            2    56  109   123  608      High  Infrequent\n",
       "2            3    45   81   108  640       Low  Infrequent\n",
       "3            4    66  100   155  493      High    Frequent\n",
       "4            5    49   92   103  636       Low  Infrequent"
      ]
     },
     "execution_count": 53,
     "metadata": {},
     "output_type": "execute_result"
    }
   ],
   "source": [
    "# Q3b (code):\n",
    "# Import necessary libraries\n",
    "import pandas as pd\n",
    "from scipy.stats import chi2_contingency #used for performing the chi-square test of independence on two categorical variables\n",
    "import numpy as np\n",
    "# Define the rounded average for Reading Ability and Home\n",
    "\n",
    "# First, we calculate the average values for 'Abil' and 'Home'.\n",
    "average_abil = df_mh['Abil'].mean()\n",
    "average_home = df_mh['Home'].mean()\n",
    "\n",
    "# Create the Rank_Abil column\n",
    "# We add a new column \"Rank_Abil\" based on whether the 'Abil' is below or above the average.\n",
    "df_mh['Rank_Abil'] = np.where(df_mh['Abil'] <= average_abil, 'Low', 'High')\n",
    "\n",
    "# Create the Rank_Home column\n",
    "#We add a new column \"Rank_Home\" based on whether the 'Home' is below or above the average.\n",
    "df_mh['Rank_Home'] = np.where(df_mh['Home'] <= average_home, 'Infrequent', 'Frequent')\n",
    "\n",
    "# Display the updated DataFrame\n",
    "df_mh.head()\n"
   ]
  },
  {
   "cell_type": "code",
   "execution_count": 54,
   "metadata": {
    "id": "jjtp4cm4-Y36"
   },
   "outputs": [
    {
     "name": "stdout",
     "output_type": "stream",
     "text": [
      "The values:\n",
      "[8, 2, 3, 12]\n",
      "The contingency matrix\n",
      "[[ 8  2]\n",
      " [ 3 12]]\n"
     ]
    }
   ],
   "source": [
    "# Q3c (code):\n",
    "# Construct Contingency Matrix\n",
    "# Construct Contingency Matrix\n",
    "high_frequent = df_mh[(df_mh['Rank_Abil'] == \"High\") & (df_mh['Rank_Home'] == 'Frequent')]\n",
    "high_infrequent = df_mh[(df_mh['Rank_Abil'] == \"High\") & (df_mh['Rank_Home'] == 'Infrequent')]\n",
    "low_frequent = df_mh[(df_mh['Rank_Abil'] == \"Low\") & (df_mh['Rank_Home'] == 'Frequent')]\n",
    "low_infrequent = df_mh[(df_mh['Rank_Abil'] == \"Low\") & (df_mh['Rank_Home'] == 'Infrequent')]\n",
    "\n",
    "data4contingency = []\n",
    "data4contingency.append(len((high_frequent)))\n",
    "data4contingency.append(len(high_infrequent))\n",
    "data4contingency.append(len(low_frequent))\n",
    "data4contingency.append(len(low_infrequent))\n",
    "\n",
    "print('The values:')\n",
    "print(data4contingency)\n",
    "\n",
    "# We transform the list in a contingency matrix\n",
    "data_cm = np.array(data4contingency).reshape(2,-1)\n",
    "\n",
    "print('The contingency matrix')\n",
    "print(data_cm)"
   ]
  },
  {
   "cell_type": "code",
   "execution_count": 55,
   "metadata": {
    "id": "gyDS8hq2-bmx"
   },
   "outputs": [
    {
     "name": "stdout",
     "output_type": "stream",
     "text": [
      "6.500270562770561 0.010785807794066234\n",
      "These are the expected frequencies\n",
      "[[4.4 5.6]\n",
      " [6.6 8.4]]\n",
      "The observed differences are statiscally significant - H0 is rejected\n"
     ]
    }
   ],
   "source": [
    "# Q3d (code):\n",
    "# Perform the Chi-square test\n",
    "from scipy.stats import chisquare\n",
    "\n",
    "# Calculate the chi-square statistic and p-value\n",
    "chi2, p_value, degree_of_freedom, expected_frequencies = chi2_contingency(data_cm)\n",
    "print(chi2, p_value)\n",
    "print('These are the expected frequencies')\n",
    "print(expected_frequencies)\n",
    "# If the p-value is less than the chosen significance level, it suggests rejecting the null hypothesis, \n",
    "# indicating a significant association between 'Rank_Abil' and 'Rank_Home'. \n",
    "# Conversely, if the p-value is greater than or equal to the significance level, the code suggests failing to reject \n",
    "# the null hypothesis, implying no significant association.\n",
    "if p_value < 0.05:\n",
    "    print(\"The observed differences are statiscally significant - H0 is rejected\")\n",
    "else:\n",
    "    print(\"The observed differences are not statiscally significant - H1 is rejected\")\n",
    "\n"
   ]
  },
  {
   "cell_type": "code",
   "execution_count": null,
   "metadata": {
    "id": "fj0gW0pS-dN5"
   },
   "outputs": [],
   "source": [
    "# Q3e (answer in words):"
   ]
  },
  {
   "cell_type": "markdown",
   "metadata": {},
   "source": [
    "\n",
    "With a p-value of 0.0108, which is less than the common significance level of 0.05, we reject the null hypothesis (H0).\n",
    "\n",
    "The results indicate that there is sufficient evidence to support the alternative hypothesis (H1), \n",
    "suggesting a significant relationship between the two categorical variables, 'Rank_Abil' and 'Rank_Home'.\n"
   ]
  },
  {
   "cell_type": "markdown",
   "metadata": {
    "id": "FgYRxqqpaUIk"
   },
   "source": [
    "## Task 3. Two-sample t-test\n",
    "As we discussed on Week 3, Two-sample designs are very useful when we want to know whether there is a difference between groups on a particular variable.\n",
    "\n",
    "In this assignment, you will be guided to replicate the Experiment 4 (p. 887-888) from the paper below, focusing on understanding the data through descriptive statistics, visualizing distributions, testing assumptions (normality and variance homogeneity), and finally performing the independent t-test.\n",
    "\n",
    "Schroeder, J. and Epley, N. (2015). The sound of intellect: Speech reveals a thoughtful mind, increasing a job candidate's appeal. Psychological Science, 26, 277--891.\n",
    "\n",
    "\n",
    "As we explained during Week 3 lecture, there are different types of two-sample designs depending on whether or not the two groups are independent (e.g., different participants in different conditions) or not (e.g., same participants in different conditions). In this course we focus on independent samples, which typically means that the observations in the two groups are unrelated - usually meaning different people. But in real practice you will need to go through similar procedures to determine which is the proper statistical test to use.\n",
    "\n",
    "\n",
    "\n",
    "\n",
    "### Background of data: Speech as indicator of intellect\n",
    "To recap on Experiment 4, 39 professional recruiters from Fortune 500 companies evaluated job pitches of M.B.A. candidates (Masters in Business Administration) from the University of Chicago Booth School of Business. The methods and results appear on pages 887--889 of the article if you want to look at them specifically for more details."
   ]
  },
  {
   "cell_type": "markdown",
   "metadata": {
    "id": "vIc57Glgn5Bb"
   },
   "source": [
    "###Step 1: Analyze the demographics of evaluators from the provided dataset\n",
    "\n",
    "**Instructions:**\n",
    "\n",
    "1. Load the necessary libraries (pandas, scipy, numpy, matplotlib.pyplot, seaborn) and explain why you need them (\"#used for ...\").\n",
    "\n",
    "2. Read the evaluators.csv file into a DataFrame.\n",
    "\n",
    "3. Calculate the mean and standard deviation of the age of the evaluators, handling missing values appropriately.\n",
    "\n",
    "4. Count how many male and female evaluators were in the study.\n",
    "\n",
    "**Question 4:**\n",
    "\n",
    "a. What was the mean age of the evaluators?\n",
    "What was the standard deviation of the age of the evaluators?\n",
    "\n",
    "b. How many participants were female and how many participants were male?\n"
   ]
  },
  {
   "cell_type": "code",
   "execution_count": 56,
   "metadata": {
    "id": "RgnTye-yojyH"
   },
   "outputs": [
    {
     "data": {
      "text/html": [
       "<div>\n",
       "<style scoped>\n",
       "    .dataframe tbody tr th:only-of-type {\n",
       "        vertical-align: middle;\n",
       "    }\n",
       "\n",
       "    .dataframe tbody tr th {\n",
       "        vertical-align: top;\n",
       "    }\n",
       "\n",
       "    .dataframe thead th {\n",
       "        text-align: right;\n",
       "    }\n",
       "</style>\n",
       "<table border=\"1\" class=\"dataframe\">\n",
       "  <thead>\n",
       "    <tr style=\"text-align: right;\">\n",
       "      <th></th>\n",
       "      <th>eval_id</th>\n",
       "      <th>condition</th>\n",
       "      <th>age</th>\n",
       "      <th>sex</th>\n",
       "    </tr>\n",
       "  </thead>\n",
       "  <tbody>\n",
       "    <tr>\n",
       "      <th>0</th>\n",
       "      <td>1</td>\n",
       "      <td>listened</td>\n",
       "      <td>29.0</td>\n",
       "      <td>2.0</td>\n",
       "    </tr>\n",
       "    <tr>\n",
       "      <th>1</th>\n",
       "      <td>2</td>\n",
       "      <td>listened</td>\n",
       "      <td>27.0</td>\n",
       "      <td>2.0</td>\n",
       "    </tr>\n",
       "    <tr>\n",
       "      <th>2</th>\n",
       "      <td>3</td>\n",
       "      <td>listened</td>\n",
       "      <td>27.0</td>\n",
       "      <td>2.0</td>\n",
       "    </tr>\n",
       "    <tr>\n",
       "      <th>3</th>\n",
       "      <td>4</td>\n",
       "      <td>read</td>\n",
       "      <td>40.0</td>\n",
       "      <td>2.0</td>\n",
       "    </tr>\n",
       "    <tr>\n",
       "      <th>4</th>\n",
       "      <td>5</td>\n",
       "      <td>read</td>\n",
       "      <td>32.0</td>\n",
       "      <td>2.0</td>\n",
       "    </tr>\n",
       "  </tbody>\n",
       "</table>\n",
       "</div>"
      ],
      "text/plain": [
       "   eval_id condition   age  sex\n",
       "0        1  listened  29.0  2.0\n",
       "1        2  listened  27.0  2.0\n",
       "2        3  listened  27.0  2.0\n",
       "3        4      read  40.0  2.0\n",
       "4        5      read  32.0  2.0"
      ]
     },
     "execution_count": 56,
     "metadata": {},
     "output_type": "execute_result"
    }
   ],
   "source": [
    "\n",
    "import pandas as pd # used for ...\n",
    "from scipy import stats #\n",
    "import numpy as np #\n",
    "import matplotlib.pyplot as plt ##\n",
    "import seaborn as sns #\n",
    "\n",
    "# Load the data\n",
    "df_evaluators = pd.read_csv('evaluators.csv')\n",
    "df_evaluators.head()\n"
   ]
  },
  {
   "cell_type": "code",
   "execution_count": 57,
   "metadata": {
    "id": "eDw0XnX3BRhe"
   },
   "outputs": [
    {
     "name": "stdout",
     "output_type": "stream",
     "text": [
      "Mean Age: 30.85\n",
      "Standard Deviation of Age: 6.24\n"
     ]
    }
   ],
   "source": [
    "# Q4a (code):\n",
    "# Calculate mean and standard deviation for age\n",
    "\n",
    "# Calculate the mean age\n",
    "mean_age = df_evaluators['age'].mean()\n",
    "\n",
    "# Calculate the standard deviation of age\n",
    "std_dev_age = df_evaluators['age'].std()\n",
    "\n",
    "# Display the results\n",
    "print(f\"Mean Age: {mean_age:.2f}\")\n",
    "print(f\"Standard Deviation of Age: {std_dev_age:.2f}\")\n"
   ]
  },
  {
   "cell_type": "code",
   "execution_count": 58,
   "metadata": {
    "id": "I0tU57R5ufRI"
   },
   "outputs": [
    {
     "name": "stdout",
     "output_type": "stream",
     "text": [
      "Gender Distribution:\n",
      "number of Female evaluators    30\n",
      "number of Male evaluators       4\n",
      "Name: sex, dtype: int64\n"
     ]
    }
   ],
   "source": [
    "# Q4b (code)\n",
    "# Count male and female evaluators\n",
    "gender_counts = df_evaluators['sex'].value_counts()\n",
    "\n",
    "# In the 'sex' column: 1 represents males and 2 represents females\n",
    "gender_counts = df_evaluators['sex'].replace({1: 'number of Male evaluators', 2: 'number of Female evaluators'}).value_counts()\n",
    "\n",
    "#Display the result\n",
    "print(\"Gender Distribution:\")\n",
    "print(gender_counts)\n",
    "\n"
   ]
  },
  {
   "cell_type": "markdown",
   "metadata": {
    "id": "KK-MdZfdpDI3"
   },
   "source": [
    "###Step 2: Calculate overall intellect ratings from evaluators and prepare a combined dataset for analysis\n",
    "\n",
    "We are now going to calculate an overall intellect rating given by each evaluator. To break that down a bit, we are going to calculate how intellectual the evaluators (the raters) thought candidates were overall, depending on whether the evaluators read or listened to the candidates' resume pitches. This is calculated by averaging the ratings of competent, thoughtful and intelligent for each evaluator held within ratings.csv.\n",
    "\n",
    "Note: We are not looking at ratings to individual candidates; we are looking at overall ratings for each evaluator. This is a bit confusing but makes sense if you stop to think about it a little. You can think about it in terms of \"do raters rate differently depending on whether they read or listen to a resume pitch\".\n",
    "We will then combine the overall intellect rating with the overall impression ratings and overall hire ratings for each evaluator, all ready found in ratings.csv. In the end we will have a new new dataframe named \"ratings2\" - which has the below structure:\n",
    "\n",
    "**eval_id** shows the evaluator ID. Each evaluator has a different ID. So all the 1's are the same evaluator.\n",
    "\n",
    "**Category** shows the scale that they were rating on - intellect, hire, impression\n",
    "\n",
    "**Rating** shows the overall rating given by that evaluator on a given scale.\n",
    "\n",
    "**condition** shows whether that evaluator listened to (e.g., evaluators 1, 2 and 3), or read (e.g., evaluator 4) the resume.\n",
    "\n",
    "\n",
    "**Instructions:**\n",
    "\n",
    "1. Load the ratings.csv file.\n",
    "\n",
    "2. Filter and calculate the mean intellect rating for each evaluator.\n",
    "\n",
    "3. Combine this with overall impression and hire ratings to create a new DataFrame named \"rating2\".\n",
    "\n",
    "4. Merge this DataFrame with the evaluator demographics.\n",
    "\n",
    "**Question 5**:\n",
    "\n",
    "Print the head of \"rating2\".\n"
   ]
  },
  {
   "cell_type": "code",
   "execution_count": 59,
   "metadata": {
    "id": "l85NzSC-pj57"
   },
   "outputs": [
    {
     "data": {
      "text/html": [
       "<div>\n",
       "<style scoped>\n",
       "    .dataframe tbody tr th:only-of-type {\n",
       "        vertical-align: middle;\n",
       "    }\n",
       "\n",
       "    .dataframe tbody tr th {\n",
       "        vertical-align: top;\n",
       "    }\n",
       "\n",
       "    .dataframe thead th {\n",
       "        text-align: right;\n",
       "    }\n",
       "</style>\n",
       "<table border=\"1\" class=\"dataframe\">\n",
       "  <thead>\n",
       "    <tr style=\"text-align: right;\">\n",
       "      <th></th>\n",
       "      <th>eval_id</th>\n",
       "      <th>Category</th>\n",
       "      <th>Rating</th>\n",
       "    </tr>\n",
       "  </thead>\n",
       "  <tbody>\n",
       "    <tr>\n",
       "      <th>0</th>\n",
       "      <td>1</td>\n",
       "      <td>competent</td>\n",
       "      <td>6.0</td>\n",
       "    </tr>\n",
       "    <tr>\n",
       "      <th>1</th>\n",
       "      <td>1</td>\n",
       "      <td>thoughtful</td>\n",
       "      <td>6.0</td>\n",
       "    </tr>\n",
       "    <tr>\n",
       "      <th>2</th>\n",
       "      <td>1</td>\n",
       "      <td>intelligent</td>\n",
       "      <td>6.0</td>\n",
       "    </tr>\n",
       "    <tr>\n",
       "      <th>3</th>\n",
       "      <td>1</td>\n",
       "      <td>impression</td>\n",
       "      <td>7.0</td>\n",
       "    </tr>\n",
       "    <tr>\n",
       "      <th>4</th>\n",
       "      <td>1</td>\n",
       "      <td>hire</td>\n",
       "      <td>6.0</td>\n",
       "    </tr>\n",
       "  </tbody>\n",
       "</table>\n",
       "</div>"
      ],
      "text/plain": [
       "   eval_id     Category  Rating\n",
       "0        1    competent     6.0\n",
       "1        1   thoughtful     6.0\n",
       "2        1  intelligent     6.0\n",
       "3        1   impression     7.0\n",
       "4        1         hire     6.0"
      ]
     },
     "execution_count": 59,
     "metadata": {},
     "output_type": "execute_result"
    }
   ],
   "source": [
    "# Load ratings data\n",
    "df_ratings = pd.read_csv('ratings.csv')\n",
    "df_ratings.head()\n"
   ]
  },
  {
   "cell_type": "code",
   "execution_count": 60,
   "metadata": {
    "id": "5dxtVUSMBZwf"
   },
   "outputs": [
    {
     "data": {
      "text/html": [
       "<div>\n",
       "<style scoped>\n",
       "    .dataframe tbody tr th:only-of-type {\n",
       "        vertical-align: middle;\n",
       "    }\n",
       "\n",
       "    .dataframe tbody tr th {\n",
       "        vertical-align: top;\n",
       "    }\n",
       "\n",
       "    .dataframe thead th {\n",
       "        text-align: right;\n",
       "    }\n",
       "</style>\n",
       "<table border=\"1\" class=\"dataframe\">\n",
       "  <thead>\n",
       "    <tr style=\"text-align: right;\">\n",
       "      <th></th>\n",
       "      <th>eval_id</th>\n",
       "      <th>Category</th>\n",
       "      <th>Rating</th>\n",
       "      <th>condition</th>\n",
       "    </tr>\n",
       "  </thead>\n",
       "  <tbody>\n",
       "    <tr>\n",
       "      <th>0</th>\n",
       "      <td>1</td>\n",
       "      <td>hire</td>\n",
       "      <td>6.000000</td>\n",
       "      <td>listened</td>\n",
       "    </tr>\n",
       "    <tr>\n",
       "      <th>1</th>\n",
       "      <td>1</td>\n",
       "      <td>impression</td>\n",
       "      <td>7.000000</td>\n",
       "      <td>listened</td>\n",
       "    </tr>\n",
       "    <tr>\n",
       "      <th>2</th>\n",
       "      <td>1</td>\n",
       "      <td>intellect</td>\n",
       "      <td>6.000000</td>\n",
       "      <td>listened</td>\n",
       "    </tr>\n",
       "    <tr>\n",
       "      <th>3</th>\n",
       "      <td>2</td>\n",
       "      <td>hire</td>\n",
       "      <td>4.000000</td>\n",
       "      <td>listened</td>\n",
       "    </tr>\n",
       "    <tr>\n",
       "      <th>4</th>\n",
       "      <td>2</td>\n",
       "      <td>impression</td>\n",
       "      <td>4.666667</td>\n",
       "      <td>listened</td>\n",
       "    </tr>\n",
       "  </tbody>\n",
       "</table>\n",
       "</div>"
      ],
      "text/plain": [
       "   eval_id    Category    Rating condition\n",
       "0        1        hire  6.000000  listened\n",
       "1        1  impression  7.000000  listened\n",
       "2        1   intellect  6.000000  listened\n",
       "3        2        hire  4.000000  listened\n",
       "4        2  impression  4.666667  listened"
      ]
     },
     "execution_count": 60,
     "metadata": {},
     "output_type": "execute_result"
    }
   ],
   "source": [
    "# Q5 (code):\n",
    "\n",
    "# Filter the ratings DataFrame to include only 'thoughtful', 'competent', and 'intelligent' categories\n",
    "filtered_ratings = df_ratings[df_ratings['Category'].isin(['thoughtful', 'competent', 'intelligent'])]\n",
    "\n",
    "# Calculate the mean intellect rating for each evaluator. Group by 'eval_id' and calculate mean, then reset the index to convert groupby object back to DataFrame\n",
    "intellect_mean = filtered_ratings.groupby('eval_id')['Rating'].mean().reset_index()\n",
    "\n",
    "# Add a 'Category' column with the value 'intellect' for these rows\n",
    "intellect_mean['Category'] = 'intellect' \n",
    "\n",
    "# Create a DataFrame for 'impression' and 'hire' ratings\n",
    "other_ratings = df_ratings[df_ratings['Category'].isin(['impression', 'hire'])]\n",
    "\n",
    "# Combine the DataFrames to create 'ratings2'. Concatenate the 'intellect_mean' DataFrame with the 'other_ratings' DataFrame\n",
    "ratings2 = pd.concat([intellect_mean, other_ratings])\n",
    "\n",
    "# Join 'ratings2' with the 'df_evaluators' DataFrame to add the 'condition' column\n",
    "ratings2 = pd.merge(ratings2, df_evaluators[['eval_id', 'condition']], on='eval_id')\n",
    "\n",
    "# Select only the necessary columns as per the structure required\n",
    "ratings2 = ratings2[['eval_id', 'Category', 'Rating', 'condition']]\n",
    "\n",
    "# Arrange by 'eval_id' and 'Category'\n",
    "ratings2 = ratings2.sort_values(by=['eval_id', 'Category']).reset_index(drop=True)\n",
    "\n",
    "# Display the first few rows of the final 'ratings2' DataFrame to verify\n",
    "ratings2.head()\n"
   ]
  },
  {
   "cell_type": "markdown",
   "metadata": {
    "id": "fOmtKCzEpoOa"
   },
   "source": [
    "###Step 3: Perform descriptive and inferential statistical analyses, including testing assumptions and conducting independent t-tests.\n",
    "\n",
    "We are going to run the t-tests for Intellect, Hire and Impression; each time comparing evaluators overall ratings for the listened group versus overall ratings for the read group to see if there was a significant difference between the two conditions: i.e., did the evaluators who listened to pitches give a significant higher or lower rating than evaluators that read pitches?\n",
    "\n",
    "**Question 6**:\n",
    "\n",
    "a. In terms of hypotheses, how can we phrase the hypothesis?\n",
    "\n",
    "b. Which t-test should we choose, one-tail or two-tail? And explian why.\n",
    "\n",
    "c. What are the independent variable and the dependent variable here?\n",
    "\n"
   ]
  },
  {
   "cell_type": "code",
   "execution_count": null,
   "metadata": {
    "id": "duti45rG22eS"
   },
   "outputs": [],
   "source": [
    "# Q6a (answer in words):\n",
    "# Null hypothesis:\n",
    "\n",
    "# Alternative hypothesis:\n",
    "\n",
    "# we could phrase the null hypothesis for these tests as there is no significant difference between overall ratings on the {insert trait} scale between evaluators who listened to resume pitches and evaluators who read the resume pitches (H0:μ1=μ2). Alternatively, we could state it as there will be a significant difference between overall ratings on the {insert trait} scale between evaluators who listened to resume pitches and evaluators who read the resume pitches (H1:μ1≠μ2)."
   ]
  },
  {
   "cell_type": "markdown",
   "metadata": {},
   "source": [
    "Null hypothesis: There is no significant difference between overall ratings on the intellect, hire, and impression scales \n",
    "between evaluators who listened to resume pitches and evaluators who read the resume pitches (μ1 = μ2).\n",
    "\n",
    "Alternative hypothesis: There is a significant difference between overall ratings on the intellect, hire, and impression scales \n",
    "between evaluators who listened to resume pitches and evaluators who read the resume pitches (μ1 ≠ μ2).\n",
    "\n",
    "we could phrase the null hypothesis for these tests as there is no significant difference between overall ratings on the {insert trait} scale between evaluators who listened to resume pitches and evaluators who read the resume pitches (H0:μ1=μ2). Alternatively, we could state it as there will be a significant difference between overall ratings on the {insert trait} scale between evaluators who listened to resume pitches and evaluators who read the resume pitches (H1:μ1≠μ2)."
   ]
  },
  {
   "cell_type": "code",
   "execution_count": null,
   "metadata": {
    "id": "EkoM_0js3fyS"
   },
   "outputs": [],
   "source": [
    "# Q6b (answer in words):\n",
    "# Which t-test should we choose, one-tail or two-tail? Explian why."
   ]
  },
  {
   "cell_type": "markdown",
   "metadata": {},
   "source": [
    "We should choose a two-tail t-test. \n",
    "\n",
    "This is because we want to determine whether there is a significant difference in either direction \n",
    "(higher or lower ratings) between the two conditions. A two-tail test is appropriate when we are interested in\n",
    "deviations in either direction from the null hypothesis."
   ]
  },
  {
   "cell_type": "code",
   "execution_count": null,
   "metadata": {
    "id": "073zOlIsI5ws"
   },
   "outputs": [],
   "source": [
    "# Q6c (answer in words):\n",
    "# What are the independent variable and the dependent variable here?"
   ]
  },
  {
   "cell_type": "markdown",
   "metadata": {},
   "source": [
    "\n",
    "The independent variable is the condition in which evaluators were placed, either \"listened\" or \"read.\" \n",
    "The dependent variables are the overall ratings on the intellect, hire, and impression scales. \n",
    "The ratings are dependent on the condition in which the evaluators were placed."
   ]
  },
  {
   "cell_type": "markdown",
   "metadata": {
    "id": "4g-SpuDX23iL"
   },
   "source": [
    "\n",
    "To clarify, we are going to run three between-subjects t-tests in total; one for intellect ratings; one for hire ratings; one for impression ratings.\n",
    "\n",
    "**Instructions:**\n",
    "\n",
    "1. Descriptive analysis of the ratings.\n",
    "\n",
    "2. Test for normal distribution (Shapiro-Wilk test) and homogeneity of variances (Levene's test) for the intellect, impression, and hire ratings.\n",
    "\n",
    "3. Conduct independent t-tests comparing intellect, impression, and hire ratings between conditions (listened vs. read).\n",
    "\n",
    "Hints: three T-tests need to be performed.\n",
    "\n",
    "**Question 7**:\n",
    "\n",
    "a: Print the test results.\n",
    "\n",
    "b: Interpret the results of the above descriptive statistics, Shapiro-Wilk test, Levene's test, and independent t-tests. Explian why we use these tests and how we made our decisions based on the test result."
   ]
  },
  {
   "cell_type": "code",
   "execution_count": 63,
   "metadata": {
    "id": "QD3ZZRrAq4Gc"
   },
   "outputs": [
    {
     "name": "stdout",
     "output_type": "stream",
     "text": [
      "                      count      mean       std       min       25%       50%  \\\n",
      "Category   condition                                                            \n",
      "hire       listened    21.0  4.714286  2.261479  0.000000  4.000000  5.000000   \n",
      "           read        18.0  2.888889  2.054805  0.000000  1.250000  2.000000   \n",
      "impression listened    21.0  5.968254  1.917477  2.333333  4.666667  6.666667   \n",
      "           read        18.0  4.074074  2.233306  0.333333  2.166667  4.500000   \n",
      "intellect  listened    21.0  5.634921  1.608674  2.333333  5.000000  5.666667   \n",
      "           read        18.0  3.648148  1.911343  0.666667  2.083333  3.666667   \n",
      "\n",
      "                           75%       max  \n",
      "Category   condition                      \n",
      "hire       listened   7.000000  8.000000  \n",
      "           read       4.000000  7.000000  \n",
      "impression listened   7.333333  8.666667  \n",
      "           read       5.333333  7.333333  \n",
      "intellect  listened   6.000000  9.000000  \n",
      "           read       4.666667  7.000000  \n",
      "The data intellect-readed follows a normal distribution.\n",
      "The data intellect-listened follows a normal distribution.\n",
      "The data hire-readed follows a normal distribution.\n",
      "The data hire-listened follows a normal distribution.\n",
      "The data impression_readed follows a normal distribution.\n",
      "The data impression_listened follows a normal distribution.\n"
     ]
    }
   ],
   "source": [
    "##Q7a (code):\n",
    "\n",
    "from scipy.stats import shapiro, levene, ttest_ind \n",
    "##Shapiro is used to perform the Shapiro-Wilk normality test;\n",
    "#levene: is used to perform Levene's homogeneity of variance test;\n",
    "#ttest_ind: is used to perform the independent sample t test.\n",
    "\n",
    "# Descriptive analysis of the ratings\n",
    "ratings_desc = ratings2.groupby(['Category', 'condition'])['Rating'].describe()\n",
    "print(ratings_desc)\n",
    "\n",
    "# Extract each category data for Shapiro-Wilk tests\n",
    "listen_intellect_ratings = ratings2.loc[ratings2['condition'] == 'listened'].loc[ratings2['Category'] == 'intellect', 'Rating']\n",
    "read_intellect_ratings = ratings2.loc[ratings2['condition'] == 'read'].loc[ratings2['Category'] == 'intellect', 'Rating']\n",
    "\n",
    "listen_hire_ratings = ratings2.loc[ratings2['condition'] == 'listened'].loc[ratings2['Category'] == 'hire', 'Rating']\n",
    "read_hire_ratings = ratings2.loc[ratings2['condition'] == 'read'].loc[ratings2['Category'] == 'hire', 'Rating']\n",
    "\n",
    "listen_impression_ratings = ratings2.loc[ratings2['condition'] == 'listened'].loc[ratings2['Category'] == 'impression', 'Rating']\n",
    "read_impression_ratings = ratings2.loc[ratings2['condition'] == 'read'].loc[ratings2['Category'] == 'impression', 'Rating']\n",
    "\n",
    "\n",
    "# Test for normal distribution (Shapiro-Wilk test)\n",
    "#Perform the Shapiro-Wilk test using the statistics module in the SciPy library.\n",
    "\n",
    "#For intellect data\n",
    "shapiro_results = {}\n",
    "shapiro_results['intellect-readed'] = stats.shapiro(read_intellect_ratings)\n",
    "shapiro_results['intellect-listened'] = stats.shapiro(listen_intellect_ratings)\n",
    "\n",
    "for condition, (score, p_val) in shapiro_results.items():\n",
    "    if p_val > 0.05:\n",
    "        print(f\"The data {condition} follows a normal distribution.\")\n",
    "    else:\n",
    "        print(f\"The data {condition} does not follow a normal distribution.\")\n",
    "\n",
    "#For hire data\n",
    "shapiro_results = {}\n",
    "shapiro_results['hire-readed'] = stats.shapiro(read_hire_ratings)\n",
    "shapiro_results['hire-listened'] = stats.shapiro(listen_hire_ratings)\n",
    "\n",
    "for condition, (score, p_val) in shapiro_results.items():\n",
    "    if p_val > 0.05:\n",
    "        print(f\"The data {condition} follows a normal distribution.\")\n",
    "    else:\n",
    "        print(f\"The data {condition} does not follow a normal distribution.\")\n",
    "        \n",
    "#For impression data\n",
    "shapiro_results = {}\n",
    "shapiro_results['impression_readed'] = stats.shapiro(read_impression_ratings)\n",
    "shapiro_results['impression_listened'] = stats.shapiro(listen_impression_ratings)\n",
    "\n",
    "for condition, (score, p_val) in shapiro_results.items():\n",
    "    if p_val > 0.05:\n",
    "        print(f\"The data {condition} follows a normal distribution.\")\n",
    "    else:\n",
    "        print(f\"The data {condition} does not follow a normal distribution.\")\n",
    "\n"
   ]
  },
  {
   "cell_type": "markdown",
   "metadata": {},
   "source": [
    "\n",
    "Based on the above results, it can be concluded that all six sets of data meet the criteria for normal distribution, as the p-values from the Shapiro-Wilk tests are well above 0.05. Therefore, we can proceed with conducting the Levene test. （The Levene test is utilized to assess whether there are significant differences in sample variances among each group. If the p-value of the Levene test is less than the typical significance level (usually 0.05), it indicates significant variance differences among the groups. Conversely, if the result is not significant, we can confidently apply the t-test.）"
   ]
  },
  {
   "cell_type": "code",
   "execution_count": 64,
   "metadata": {},
   "outputs": [
    {
     "name": "stdout",
     "output_type": "stream",
     "text": [
      "impression_Levene's test is not significant\n",
      "intellect_Levene's test is not significant\n",
      "hire_Levene's test is not significant\n"
     ]
    }
   ],
   "source": [
    "# Test for homogeneity of variances (Levene's test)\n",
    "grouped_data = ratings2.groupby(['condition', 'Category'])['Rating']\n",
    "\n",
    "#For impression data\n",
    "\n",
    "#To group based on condition and categories, select the 'Ratings' column in the 'DataFrame' and create a group object.\n",
    "listened_impression_scores = grouped_data.get_group(('listened', 'impression'))\n",
    "read_impression_scores = grouped_data.get_group(('read', 'impression'))\n",
    "\n",
    "#Import the statistics module in the SciPy library to perform Levene's homogeneity of variance test.\n",
    "score, p_val = stats.levene(listened_impression_scores, read_impression_scores)\n",
    "if p_val < 0.05:\n",
    "    print(\"impression_Levene's test is significant - use Welch's test\")\n",
    "else:\n",
    "    print(\"impression_Levene's test is not significant\")\n",
    "\n",
    "#For  intellect data\n",
    "\n",
    "listened_intellect_scores = grouped_data.get_group(('listened', 'intellect'))\n",
    "read_intellect_scores = grouped_data.get_group(('read', 'intellect'))\n",
    "\n",
    "score, p_val = stats.levene(listened_intellect_scores, read_intellect_scores)\n",
    "if p_val < 0.05:\n",
    "    print(\"intellect_Levene's test is significant - use Welch's test\")\n",
    "else:\n",
    "    print(\"intellect_Levene's test is not significant\")  \n",
    "\n",
    "#For hire data\n",
    "\n",
    "listened_hire_scores = grouped_data.get_group(('listened', 'hire'))\n",
    "read_hire_scores = grouped_data.get_group(('read', 'hire'))\n",
    "\n",
    "score, p_val = stats.levene(listened_hire_scores, read_hire_scores)\n",
    "if p_val < 0.05:\n",
    "    print(\"hire_Levene's test is significant - use Welch's test\")\n",
    "else:\n",
    "    print(\"hire_Levene's test is not significant\") \n"
   ]
  },
  {
   "cell_type": "markdown",
   "metadata": {},
   "source": [
    "The tests above do not show significance, indicating that we can proceed with the t-test."
   ]
  },
  {
   "cell_type": "code",
   "execution_count": null,
   "metadata": {},
   "outputs": [],
   "source": [
    "#t_test for intellect"
   ]
  },
  {
   "cell_type": "code",
   "execution_count": 65,
   "metadata": {},
   "outputs": [
    {
     "name": "stdout",
     "output_type": "stream",
     "text": [
      "For intellect, difference is statistically significant - reject H0, confirm H1\n",
      "For impression, difference is statistically significant - reject H0, confirm H1\n",
      "For hire, difference is statistically significant - reject H0, confirm H1\n"
     ]
    }
   ],
   "source": [
    "#Use the statistics module in the SciPy library to perform an independent samples t-test.\n",
    "ttest_score, p_val = stats.ttest_ind(listened_intellect_scores, read_intellect_scores)\n",
    "if p_val < 0.05:\n",
    "    print(\"For intellect, difference is statistically significant - reject H0, confirm H1\")\n",
    "else:\n",
    "    print(\"For intellect, difference is NOT statistically significant - reject H1, confirm H0\")\n",
    "\n",
    "\n",
    "#t_test for impression    \n",
    "ttest_score, p_val = stats.ttest_ind(listened_impression_scores, read_impression_scores)\n",
    "if p_val < 0.05:\n",
    "    print(\"For impression, difference is statistically significant - reject H0, confirm H1\")\n",
    "else:\n",
    "    print(\"For impression, difference is NOT statistically significant - reject H1, confirm H0\")\n",
    "\n",
    "#t_test for hire\n",
    "ttest_score, p_val = stats.ttest_ind(listened_hire_scores, read_hire_scores)\n",
    "if p_val < 0.05:\n",
    "    print(\"For hire, difference is statistically significant - reject H0, confirm H1\")\n",
    "else:\n",
    "    print(\"For hire, difference is NOT statistically significant - reject H1, confirm H0\")"
   ]
  },
  {
   "cell_type": "code",
   "execution_count": null,
   "metadata": {
    "id": "aifm_T8UQwYm"
   },
   "outputs": [],
   "source": [
    "#Q7b (answer in words):\n",
    "# Interpret the results of the above descriptive statistics, Shapiro-Wilk test, Levene's test, and independent \n",
    "# t-tests. Explian why we use these tests and how we made our decisions based on the test result."
   ]
  },
  {
   "cell_type": "markdown",
   "metadata": {},
   "source": [
    "The independent samples t-test compares means of two samples from unrelated groups. Here, I want to determine if there are significant rating differences in different categories (intellect, impression, hire) under listened and read conditions. As these conditions are independent, I opt for an independent samples t-test.\n",
    "\n",
    "To ensure t-test accuracy, two main assumptions must be met: normal distribution of variables and equal variances between groups. We can check for normality using the Shapiro-Wilks test. If p < 0.05, just reject normality; otherwise, data satisfies normal distribution. The results confirm normal distribution, enabling us to proceed.\n",
    "\n",
    "Levene's test checks for equal group variances. A p-value < 0.05 suggests unequal variances, but if it's much higher, the test is not significant. Since our Levene's test is not significant, we can confidently apply the t-test.\n",
    "\n",
    "In t-test results, a p-value < 0.05 rejects the null hypothesis, signifying a significant group difference. Conversely, p > 0.05 indicates no significant difference. The t-tests reveal significant differences in evaluator ratings for intellect, impression, and hire under different conditions. This suggests that reading and listening conditions significantly influence evaluators' ratings."
   ]
  }
 ],
 "metadata": {
  "colab": {
   "provenance": []
  },
  "kernelspec": {
   "display_name": "Python 3 (ipykernel)",
   "language": "python",
   "name": "python3"
  },
  "language_info": {
   "codemirror_mode": {
    "name": "ipython",
    "version": 3
   },
   "file_extension": ".py",
   "mimetype": "text/x-python",
   "name": "python",
   "nbconvert_exporter": "python",
   "pygments_lexer": "ipython3",
   "version": "3.11.4"
  }
 },
 "nbformat": 4,
 "nbformat_minor": 1
}
